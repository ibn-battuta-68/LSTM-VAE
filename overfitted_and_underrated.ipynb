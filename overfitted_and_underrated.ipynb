{
 "cells": [
  {
   "cell_type": "code",
   "execution_count": 1,
   "metadata": {},
   "outputs": [
    {
     "name": "stderr",
     "output_type": "stream",
     "text": [
      "c:\\Users\\nagar\\miniconda3\\envs\\newest_lstm_vae\\lib\\site-packages\\gensim\\similarities\\__init__.py:15: UserWarning: The gensim.similarities.levenshtein submodule is disabled, because the optional Levenshtein package <https://pypi.org/project/python-Levenshtein/> is unavailable. Install Levenhstein (e.g. `pip install python-Levenshtein`) to suppress this warning.\n",
      "  warnings.warn(msg)\n",
      "c:\\Users\\nagar\\miniconda3\\envs\\newest_lstm_vae\\lib\\site-packages\\tensorflow\\python\\framework\\dtypes.py:523: FutureWarning: Passing (type, 1) or '1type' as a synonym of type is deprecated; in a future version of numpy, it will be understood as (type, (1,)) / '(1,)type'.\n",
      "  _np_qint8 = np.dtype([(\"qint8\", np.int8, 1)])\n",
      "c:\\Users\\nagar\\miniconda3\\envs\\newest_lstm_vae\\lib\\site-packages\\tensorflow\\python\\framework\\dtypes.py:524: FutureWarning: Passing (type, 1) or '1type' as a synonym of type is deprecated; in a future version of numpy, it will be understood as (type, (1,)) / '(1,)type'.\n",
      "  _np_quint8 = np.dtype([(\"quint8\", np.uint8, 1)])\n",
      "c:\\Users\\nagar\\miniconda3\\envs\\newest_lstm_vae\\lib\\site-packages\\tensorflow\\python\\framework\\dtypes.py:525: FutureWarning: Passing (type, 1) or '1type' as a synonym of type is deprecated; in a future version of numpy, it will be understood as (type, (1,)) / '(1,)type'.\n",
      "  _np_qint16 = np.dtype([(\"qint16\", np.int16, 1)])\n",
      "c:\\Users\\nagar\\miniconda3\\envs\\newest_lstm_vae\\lib\\site-packages\\tensorflow\\python\\framework\\dtypes.py:526: FutureWarning: Passing (type, 1) or '1type' as a synonym of type is deprecated; in a future version of numpy, it will be understood as (type, (1,)) / '(1,)type'.\n",
      "  _np_quint16 = np.dtype([(\"quint16\", np.uint16, 1)])\n",
      "c:\\Users\\nagar\\miniconda3\\envs\\newest_lstm_vae\\lib\\site-packages\\tensorflow\\python\\framework\\dtypes.py:527: FutureWarning: Passing (type, 1) or '1type' as a synonym of type is deprecated; in a future version of numpy, it will be understood as (type, (1,)) / '(1,)type'.\n",
      "  _np_qint32 = np.dtype([(\"qint32\", np.int32, 1)])\n",
      "c:\\Users\\nagar\\miniconda3\\envs\\newest_lstm_vae\\lib\\site-packages\\tensorflow\\python\\framework\\dtypes.py:532: FutureWarning: Passing (type, 1) or '1type' as a synonym of type is deprecated; in a future version of numpy, it will be understood as (type, (1,)) / '(1,)type'.\n",
      "  np_resource = np.dtype([(\"resource\", np.ubyte, 1)])\n"
     ]
    }
   ],
   "source": [
    "import numpy as np\n",
    "import pandas as pd\n",
    "from gensim.models import Word2Vec\n",
    "from nltk.tokenize import word_tokenize\n",
    "from nltk.corpus import stopwords\n",
    "import nltk\n",
    "import tensorflow as tf\n",
    "import six\n",
    "from timeit import default_timer as timer\n",
    "from sklearn.model_selection import train_test_split\n",
    "from tensorflow.keras.models import Sequential\n",
    "from tensorflow.keras.layers import LSTM, Dense, Dropout, Flatten\n",
    "from tensorflow.keras.optimizers import Adam\n",
    "from tensorflow.keras.utils import to_categorical\n",
    "import matplotlib.pyplot as plt\n",
    "\n",
    "np.random.seed(42)\n",
    "tf.set_random_seed(42)"
   ]
  },
  {
   "cell_type": "code",
   "execution_count": 2,
   "metadata": {},
   "outputs": [],
   "source": [
    "class LSTM_Var_Autoencoder(object):\n",
    "\n",
    "    def __init__(self, intermediate_dim=None, z_dim=None, n_dim=None, kulback_coef=0.1,\n",
    "                 stateful=False):\n",
    "        \"\"\"\n",
    "        Args:\n",
    "        intermediate_dim : LSTM cells dimension.\n",
    "        z_dim : dimension of latent space.\n",
    "        n_dim : dimension of input data.\n",
    "        statefull : if true, keep cell state through batches.\n",
    "        \"\"\"\n",
    "        \n",
    "        if not intermediate_dim or not z_dim or not n_dim:\n",
    "            raise ValueError(\"You should set intermediate_dim, z_dim\"\n",
    "                             \"(latent space) dimension and your input\"\n",
    "                             \"third dimension, n_dim.\"\n",
    "                             \" \\n            \")\n",
    "\n",
    "        tf.reset_default_graph()\n",
    "\n",
    "        self.z_dim = z_dim\n",
    "        self.n_dim = n_dim\n",
    "        self.intermediate_dim = intermediate_dim\n",
    "        self.stateful = stateful\n",
    "        self.input = tf.placeholder(tf.float32, shape=[None, None, self.n_dim])\n",
    "        self.batch_size = tf.placeholder(tf.int64)\n",
    "        self.kulback_coef = kulback_coef\n",
    "        dataset = tf.data.Dataset.from_tensor_slices(self.input).repeat() \\\n",
    "            .batch(self.batch_size)\n",
    "        self.batch_ = tf.placeholder(tf.int32, shape=[])\n",
    "        self.ite = dataset.make_initializable_iterator()\n",
    "        self.x = self.ite.get_next()\n",
    "        self.repeat = tf.placeholder(tf.int32)\n",
    "\n",
    "        def gauss_sampling(mean, sigma):\n",
    "            with tf.name_scope(\"sample_gaussian\"):\n",
    "                eps = tf.random_normal(tf.shape(sigma), 0, 1, dtype=tf.float32)\n",
    "                z = tf.add(mean, tf.exp(0.5*sigma) * eps)\n",
    "                return z\n",
    "\n",
    "        def get_state_variables(batch_size, cell):\n",
    "            state_variables = []\n",
    "            for state_c, state_h in cell.zero_state(batch_size, tf.float32):\n",
    "                state_variables.append(tf.nn.rnn_cell.LSTMStateTuple(\n",
    "                    (state_c), (state_h)))\n",
    "            return tuple(state_variables)\n",
    "\n",
    "\n",
    "        def get_state_update_op(state_variables, new_states):\n",
    "            update_ops = []\n",
    "            for state_variable, new_state in zip(state_variables, new_states):\n",
    "                update_ops.extend([state_variable[0] == new_state[0],\n",
    "                                   state_variable[1] == new_state[1]])\n",
    "            return tf.tuple(update_ops)\n",
    "\n",
    "        def get_state_reset_op(state_variables, cell, batch_size):\n",
    "            zero_states = cell.zero_state(batch_size, tf.float32)\n",
    "            return get_state_update_op(state_variables, zero_states)\n",
    "\n",
    "        weights = {\n",
    "            'z_mean': tf.get_variable(\n",
    "                \"z_mean\",\n",
    "                shape=[\n",
    "                    self.intermediate_dim,\n",
    "                    self.z_dim],\n",
    "                initializer=tf.contrib.layers.xavier_initializer()),\n",
    "            'log_sigma': tf.get_variable(\n",
    "                \"log_sigma\",\n",
    "                shape=[\n",
    "                    self.intermediate_dim,\n",
    "                    self.z_dim],\n",
    "                initializer=tf.contrib.layers.xavier_initializer())}\n",
    "        biases = {\n",
    "            'z_mean_b': tf.get_variable(\"b_mean\", shape=[self.z_dim],\n",
    "                                        initializer=tf.zeros_initializer()),\n",
    "            'z_std_b': tf.get_variable(\"b_log_sigma\", shape=[self.z_dim],\n",
    "                                       initializer=tf.zeros_initializer())\n",
    "        }\n",
    "\n",
    "        with tf.variable_scope(\"encoder\"):\n",
    "            with tf.variable_scope(\"LSTM_encoder\"):\n",
    "                lstm_layer = tf.nn.rnn_cell.LSTMCell(\n",
    "                    self.intermediate_dim,\n",
    "                    forget_bias=1,\n",
    "                    initializer=tf.contrib.layers.xavier_initializer(),\n",
    "                    activation=tf.nn.relu)\n",
    "\n",
    "        if self.stateful:\n",
    "            self.batch_ = tf.placeholder(tf.int32, shape=[])\n",
    "            layer = tf.nn.rnn_cell.MultiRNNCell([lstm_layer])\n",
    "            states = get_state_variables(self.batch_, layer)\n",
    "            outputs, new_states = tf.nn.dynamic_rnn(\n",
    "                layer, self.x, initial_state=states, dtype=tf.float32)\n",
    "            self.update_op = get_state_update_op(states, new_states)\n",
    "            self.reset_state_op = get_state_reset_op(\n",
    "                states, lstm_layer, self.batch_)\n",
    "        else:\n",
    "            outputs, _ = tf.nn.dynamic_rnn(lstm_layer, self.x, dtype=\"float32\")\n",
    "\n",
    "        self.z_mean = tf.add(tf.matmul(\n",
    "            outputs[:, -1, :], weights['z_mean']), biases['z_mean_b'])\n",
    "        self.z_sigma = tf.nn.softplus(tf.add(tf.matmul(\n",
    "            outputs[:, -1, :], weights['log_sigma']), biases['z_std_b']))\n",
    "        self.z = gauss_sampling(self.z_mean, self.z_sigma)\n",
    "\n",
    "        repeated_z = tf.keras.layers.RepeatVector(\n",
    "            self.repeat, dtype=\"float32\")(self.z)\n",
    "\n",
    "        with tf.variable_scope(\"decoder\"):\n",
    "            if self.stateful:\n",
    "                with tf.variable_scope('lstm_decoder_stateful'):\n",
    "                    rnn_layers_ = [\n",
    "                        tf.nn.rnn_cell.LSTMCell(\n",
    "                            size,\n",
    "                            initializer=tf.contrib.layers.xavier_initializer(),\n",
    "                            forget_bias=1) for size in [\n",
    "                            self.intermediate_dim,\n",
    "                            n_dim]]\n",
    "                    multi_rnn_cell_ = tf.nn.rnn_cell.MultiRNNCell(rnn_layers_)\n",
    "                    states_ = get_state_variables(self.batch_, multi_rnn_cell_)\n",
    "                self.x_reconstr_mean, new_states_ = tf.nn.dynamic_rnn(\n",
    "                    cell=multi_rnn_cell_, inputs=repeated_z, initial_state=states_, dtype=tf.float32)\n",
    "                self.update_op_ = get_state_update_op(states_, new_states_)\n",
    "                self.reset_state_op_ = get_state_reset_op(\n",
    "                    states_, multi_rnn_cell_, self.batch_)\n",
    "            else:\n",
    "                with tf.variable_scope('lstm_decoder_stateless'):\n",
    "                    rnn_layers = [\n",
    "                        tf.nn.rnn_cell.LSTMCell(\n",
    "                            size,\n",
    "                            initializer=tf.contrib.layers.xavier_initializer(),\n",
    "                            forget_bias=1) for size in [\n",
    "                            self.intermediate_dim,\n",
    "                            n_dim]]\n",
    "                    multi_rnn_cell = tf.nn.rnn_cell.MultiRNNCell(rnn_layers)\n",
    "                self.x_reconstr_mean, _ = tf.nn.dynamic_rnn(\n",
    "                    cell=multi_rnn_cell, inputs=repeated_z, dtype=tf.float32)\n",
    "\n",
    "    def _create_loss_optimizer(self, opt, **param):\n",
    "        with tf.name_scope(\"MSE\"):\n",
    "            reconstr_loss = tf.reduce_sum(\n",
    "                tf.losses.mean_squared_error(\n",
    "                    self.x, self.x_reconstr_mean))\n",
    "        with tf.name_scope(\"KL_divergence\"):\n",
    "            latent_loss = - 0.5 * tf.reduce_sum(1 + self.z_sigma\n",
    "                                               - self.z_mean**2\n",
    "                                               - tf.exp(self.z_sigma), 1)\n",
    "            self._cost = tf.reduce_mean(reconstr_loss + self.kulback_coef*latent_loss)\n",
    "            self.kl_divergence = tf.reduce_mean(latent_loss)\n",
    "        # apply gradient clipping\n",
    "        tvars = tf.trainable_variables()\n",
    "        grads, _ = tf.clip_by_global_norm(tf.gradients(self._cost, tvars), 10)\n",
    "        self.train_op = opt(**param).apply_gradients(zip(grads, tvars))\n",
    "\n",
    "    def fit(\n",
    "            self,\n",
    "            X,\n",
    "            learning_rate=0.001,\n",
    "            batch_size=100,\n",
    "            num_epochs=200,\n",
    "            opt=tf.train.AdamOptimizer,\n",
    "            REG_LAMBDA=0,\n",
    "            grad_clip_norm=10,\n",
    "            optimizer_params=None,\n",
    "            verbose=True):      \n",
    "        self.reconstr_losses = []  # List to store reconstruction losses\n",
    "        self.kl_divergences = [] \n",
    "        if len(np.shape(X)) != 3:\n",
    "            raise ValueError(\n",
    "                'Input must be a 3-D array.'\n",
    "                ' \\n            Use input.reshape(-1,timesteps,1).')\n",
    "        if optimizer_params is None:\n",
    "            optimizer_params = {}\n",
    "            optimizer_params['learning_rate'] = learning_rate\n",
    "        else:\n",
    "            optimizer_params = dict(six.iteritems(optimizer_params))\n",
    "\n",
    "        self._create_loss_optimizer(opt, **optimizer_params)\n",
    "        lstm_var = tf.get_collection(\n",
    "            tf.GraphKeys.TRAINABLE_VARIABLES,\n",
    "            scope='LSTM_encoder')\n",
    "        self._cost += REG_LAMBDA * tf.reduce_mean(tf.nn.l2_loss(lstm_var))\n",
    "\n",
    "        config = tf.ConfigProto(allow_soft_placement=True)\n",
    "        config.gpu_options.allow_growth = True\n",
    "\n",
    "        self.sess = tf.Session(config=config)\n",
    "        init = tf.global_variables_initializer()\n",
    "        self.sess.run(init)\n",
    "        self.sess.run(\n",
    "            self.ite.initializer,\n",
    "            feed_dict={\n",
    "                self.input: X,\n",
    "                self.batch_size: batch_size})\n",
    "        batches_per_epoch = int(np.ceil(len(X) / batch_size))\n",
    "\n",
    "        print(\"\\n\")\n",
    "        print(\"Training...\")\n",
    "        print(\"\\n\")\n",
    "        start = timer()\n",
    "\n",
    "        for epoch in range(num_epochs):\n",
    "            train_error = 0\n",
    "            kl_div_epoch = 0\n",
    "            for step in range(batches_per_epoch):\n",
    "                if self.stateful:\n",
    "                    loss, kl_div, _, s, _ = self.sess.run(\n",
    "                        [self._cost, self.kl_divergence, self.train_op, self.update_op, self.update_op_],\n",
    "                        feed_dict={self.repeat: np.shape(X)[1], self.batch_: batch_size})\n",
    "                else:\n",
    "                    loss, kl_div = self.sess.run(\n",
    "                        [self._cost, self.kl_divergence], \n",
    "                        feed_dict={self.repeat: np.shape(X)[1]})\n",
    "                train_error += loss\n",
    "                kl_div_epoch += kl_div  \n",
    "            mean_loss = train_error / batches_per_epoch\n",
    "            mean_kl_div = kl_div_epoch / batches_per_epoch\n",
    "            \n",
    "            self.reconstr_losses.append(mean_loss)\n",
    "            self.kl_divergences.append(mean_kl_div)\n",
    "\n",
    "            if step == (batches_per_epoch - 1):\n",
    "                mean_loss = train_error / batches_per_epoch\n",
    "\n",
    "                if self.stateful:\n",
    "                    self.sess.run([self.reset_state_op],\n",
    "                                  feed_dict={self.batch_: batch_size})\n",
    "                    self.sess.run([self.reset_state_op_],\n",
    "                                  feed_dict={self.batch_: batch_size})\n",
    "            if epoch % 10 == 0 & verbose:\n",
    "                print(\n",
    "                    \"Epoch {:^6} Loss {:0.5f}\"  .format(\n",
    "                        epoch + 1, mean_loss))\n",
    "        end = timer()\n",
    "        plt.figure(figsize=(10, 5))\n",
    "        plt.plot(range(num_epochs), self.reconstr_losses, label=\"Reconstruction Loss\")\n",
    "        plt.plot(range(num_epochs), self.kl_divergences, label=\"KL Divergence\")\n",
    "        plt.xlabel(\"Epoch\")\n",
    "        plt.ylabel(\"Loss\")\n",
    "        plt.legend()\n",
    "        plt.title(\"Training Losses\")\n",
    "        plt.show()\n",
    "\n",
    "        print(\"\\n\")\n",
    "        print(\"Training time {:0.2f} minutes\".format((end - start) / (60)))\n",
    "\n",
    "    def reconstruct(self, X, get_error=False):\n",
    "        self.sess.run(\n",
    "            self.ite.initializer,\n",
    "            feed_dict={\n",
    "                self.input: X,\n",
    "                self.batch_size: np.shape(X)[0]})\n",
    "        if self.stateful:\n",
    "            _, _ = self.sess.run([self.reset_state_op, self.reset_state_op_], feed_dict={\n",
    "                                self.batch_: np.shape(X)[0]})\n",
    "            x_rec, kl_div, _, _ = self.sess.run(\n",
    "                [self.x_reconstr_mean, self.kl_divergence, self.update_op, self.update_op_], \n",
    "                feed_dict={self.batch_: np.shape(X)[0], self.repeat: np.shape(X)[1]})\n",
    "        else:\n",
    "            x_rec, kl_div = self.sess.run(\n",
    "                [self.x_reconstr_mean, self.kl_divergence], \n",
    "                feed_dict={self.repeat: np.shape(X)[1]})\n",
    "        if get_error:\n",
    "            squared_error = (x_rec - X)**2\n",
    "            return x_rec, squared_error, kl_div\n",
    "        else:\n",
    "            return x_rec, kl_div\n",
    "\n",
    "\n",
    "    def reduce(self, X):\n",
    "        self.sess.run(\n",
    "            self.ite.initializer,\n",
    "            feed_dict={\n",
    "                self.input: X,\n",
    "                self.batch_size: np.shape(X)[0]})\n",
    "        if self.stateful:\n",
    "            _ = self.sess.run([self.reset_state_op], feed_dict={\n",
    "                              self.batch_: np.shape(X)[0]})\n",
    "            x, _ = self.sess.run([self.z, self.update_op], feed_dict={\n",
    "                                 self.batch_: np.shape(X)[0], self.repeat: np.shape(X)[1]})\n",
    "        else:\n",
    "            x = self.sess.run(self.z)\n",
    "        return x"
   ]
  },
  {
   "cell_type": "markdown",
   "metadata": {},
   "source": [
    "# Training the word embeddings"
   ]
  },
  {
   "cell_type": "code",
   "execution_count": 3,
   "metadata": {},
   "outputs": [
    {
     "name": "stderr",
     "output_type": "stream",
     "text": [
      "[nltk_data] Downloading package punkt to\n",
      "[nltk_data]     C:\\Users\\nagar\\AppData\\Roaming\\nltk_data...\n",
      "[nltk_data]   Package punkt is already up-to-date!\n",
      "[nltk_data] Downloading package stopwords to\n",
      "[nltk_data]     C:\\Users\\nagar\\AppData\\Roaming\\nltk_data...\n",
      "[nltk_data]   Package stopwords is already up-to-date!\n"
     ]
    }
   ],
   "source": [
    "nltk.download('punkt')\n",
    "nltk.download('stopwords')\n",
    "\n",
    "df = pd.read_csv('spam_or_not_spam.csv')\n",
    "df=df.dropna(subset=['email'])\n",
    "\n",
    "stop_words = set(stopwords.words('english'))\n",
    "\n",
    "custom_stop_words = {'URL', 'NUMBER'}\n",
    "stop_words.update(custom_stop_words)\n",
    "\n",
    "def preprocess_text(text):\n",
    "    tokens = word_tokenize(text.lower())\n",
    "    filtered_tokens = [word for word in tokens if word.isalpha() and word not in stop_words]\n",
    "    return filtered_tokens\n",
    "\n",
    "processed_sentences = df['email'].apply(preprocess_text).tolist()\n",
    "\n",
    "model = Word2Vec(processed_sentences, vector_size=100, window=3, min_count=3, workers=4)\n",
    "\n",
    "max_len = 30\n",
    "\n",
    "# Convert sentences into their word embeddings, padded to max_len\n",
    "def get_word_embeddings(sentence_tokens):\n",
    "    embeddings = []\n",
    "    for word in sentence_tokens:\n",
    "        if word in model.wv:\n",
    "            embeddings.append(model.wv[word])\n",
    "        else:\n",
    "            embeddings.append(np.zeros(model.vector_size))\n",
    "    \n",
    "    while len(embeddings) < max_len:\n",
    "        embeddings.append(np.zeros(model.vector_size))\n",
    "    \n",
    "    # Truncate the embeddings\n",
    "    embeddings = embeddings[:max_len]\n",
    "    \n",
    "    return np.array(embeddings)\n",
    "\n",
    "sentence_word_embeddings = np.array([get_word_embeddings(sentence) for sentence in processed_sentences])"
   ]
  },
  {
   "cell_type": "markdown",
   "metadata": {},
   "source": [
    "# Fitting the model"
   ]
  },
  {
   "cell_type": "code",
   "execution_count": null,
   "metadata": {},
   "outputs": [
    {
     "name": "stdout",
     "output_type": "stream",
     "text": [
      "\n",
      "\n",
      "Training...\n",
      "\n",
      "\n",
      "Epoch   1    Loss 0.26134\n",
      "Epoch   11   Loss 0.12418\n"
     ]
    },
    {
     "data": {
      "image/png": "[encoded data removed]",
      "text/plain": [
       "<Figure size 720x360 with 1 Axes>"
      ]
     },
     "metadata": {
      "needs_background": "light"
     },
     "output_type": "display_data"
    },
    {
     "name": "stdout",
     "output_type": "stream",
     "text": [
      "\n",
      "\n",
      "Training time 1.07 minutes\n"
     ]
    }
   ],
   "source": [
    "vae = LSTM_Var_Autoencoder(intermediate_dim = 300,z_dim = 20, n_dim=100, stateful = True)\n",
    "vae.fit(sentence_word_embeddings, learning_rate=0.001, batch_size = 100, num_epochs = 11, opt = tf.train.AdamOptimizer, REG_LAMBDA = 0.01,\n",
    "            grad_clip_norm=10, optimizer_params=None, verbose = True)"
   ]
  },
  {
   "cell_type": "code",
   "execution_count": 5,
   "metadata": {},
   "outputs": [
    {
     "name": "stdout",
     "output_type": "stream",
     "text": [
      "Average Reconstruction error:  0.1219629676445773\n",
      "KL divergence:  0.0031118002\n"
     ]
    }
   ],
   "source": [
    "x_reconstructed, recons_error, kl_dive = vae.reconstruct(sentence_word_embeddings, get_error = True)\n",
    "print(\"Average Reconstruction error: \", recons_error.mean())\n",
    "print(\"KL divergence: \", kl_dive)"
   ]
  },
  {
   "cell_type": "markdown",
   "metadata": {},
   "source": [
    "# Classifier Model"
   ]
  },
  {
   "cell_type": "code",
   "execution_count": 6,
   "metadata": {},
   "outputs": [],
   "source": [
    "df['label'] = df['label'].astype(int)  \n",
    "\n",
    "labels = to_categorical(df['label'], num_classes=2)\n",
    "\n",
    "X_train, X_test, y_train, y_test = train_test_split(sentence_word_embeddings, labels, test_size=0.2, random_state=42)\n",
    "\n",
    "model_classifier = Sequential([\n",
    "    LSTM(128, input_shape=(max_len, model.vector_size), return_sequences=False),\n",
    "    Dropout(0.3),\n",
    "    Dense(64, activation='relu'),\n",
    "    Dropout(0.3),\n",
    "    Dense(2, activation='softmax')\n",
    "])\n",
    "\n",
    "\n",
    "model_classifier.compile(optimizer=Adam(lr=0.001),\n",
    "              loss='categorical_crossentropy',\n",
    "              metrics=['accuracy'])\n"
   ]
  },
  {
   "cell_type": "code",
   "execution_count": 7,
   "metadata": {},
   "outputs": [
    {
     "name": "stdout",
     "output_type": "stream",
     "text": [
      "Train on 1919 samples, validate on 480 samples\n",
      "Epoch 1/10\n",
      "1919/1919 [==============================] - 2s 1ms/step - loss: 0.4876 - acc: 0.8166 - val_loss: 0.4826 - val_acc: 0.8063\n",
      "Epoch 2/10\n",
      "1919/1919 [==============================] - 1s 487us/step - loss: 0.3786 - acc: 0.8385 - val_loss: 0.3446 - val_acc: 0.8063\n",
      "Epoch 3/10\n",
      "1919/1919 [==============================] - 1s 507us/step - loss: 0.2902 - acc: 0.8749 - val_loss: 0.2923 - val_acc: 0.8458\n",
      "Epoch 4/10\n",
      "1919/1919 [==============================] - 1s 502us/step - loss: 0.2684 - acc: 0.8791 - val_loss: 0.2650 - val_acc: 0.8854\n",
      "Epoch 5/10\n",
      "1919/1919 [==============================] - 1s 515us/step - loss: 0.2282 - acc: 0.8979 - val_loss: 0.2417 - val_acc: 0.8979\n",
      "Epoch 6/10\n",
      "1919/1919 [==============================] - 1s 596us/step - loss: 0.2232 - acc: 0.9119 - val_loss: 0.2078 - val_acc: 0.9062\n",
      "Epoch 7/10\n",
      "1919/1919 [==============================] - 1s 597us/step - loss: 0.2047 - acc: 0.9197 - val_loss: 0.2867 - val_acc: 0.8542\n",
      "Epoch 8/10\n",
      "1919/1919 [==============================] - 1s 606us/step - loss: 0.1801 - acc: 0.9265 - val_loss: 0.1747 - val_acc: 0.9417\n",
      "Epoch 9/10\n",
      "1919/1919 [==============================] - 1s 619us/step - loss: 0.1835 - acc: 0.9244 - val_loss: 0.1731 - val_acc: 0.9396\n",
      "Epoch 10/10\n",
      "1919/1919 [==============================] - 1s 625us/step - loss: 0.1506 - acc: 0.9448 - val_loss: 0.1802 - val_acc: 0.9333\n"
     ]
    }
   ],
   "source": [
    "history = model_classifier.fit(X_train, y_train, batch_size=32, epochs=10, validation_split=0.2, verbose=1)"
   ]
  },
  {
   "cell_type": "code",
   "execution_count": 8,
   "metadata": {},
   "outputs": [],
   "source": [
    "x_reconstructed_test, reconstr_error_test, kl_divergence_test = vae.reconstruct(X_test, get_error = True)"
   ]
  },
  {
   "cell_type": "code",
   "execution_count": 9,
   "metadata": {},
   "outputs": [
    {
     "name": "stdout",
     "output_type": "stream",
     "text": [
      "Reconstruction error test:  0.12277943147633531\n",
      "KL divergence test:  0.0030805464\n"
     ]
    }
   ],
   "source": [
    "print(\"Reconstruction error test: \", reconstr_error_test.mean())\n",
    "print(\"KL divergence test: \", kl_divergence_test)"
   ]
  },
  {
   "cell_type": "markdown",
   "metadata": {},
   "source": [
    "# Running the classifier on the reconstructed data"
   ]
  },
  {
   "cell_type": "code",
   "execution_count": null,
   "metadata": {},
   "outputs": [
    {
     "name": "stdout",
     "output_type": "stream",
     "text": [
      "Accuracy:  0.8333333333333334\n"
     ]
    },
    {
     "name": "stderr",
     "output_type": "stream",
     "text": [
      "c:\\Users\\nagar\\miniconda3\\envs\\newest_lstm_vae\\lib\\site-packages\\sklearn\\metrics\\_classification.py:1248: UndefinedMetricWarning: Precision is ill-defined and being set to 0.0 in labels with no predicted samples. Use `zero_division` parameter to control this behavior.\n",
      "  _warn_prf(average, modifier, msg_start, len(result))\n"
     ]
    }
   ],
   "source": [
    "from sklearn.metrics import classification_report, accuracy_score, precision_score, recall_score, f1_score\n",
    "import numpy as np\n",
    "\n",
    "# Predict the classes for the reconstructed test data\n",
    "y_pred = model_classifier.predict(x_reconstructed_test)\n",
    "y_pred_classes = np.argmax(y_pred, axis=1)\n",
    "y_test_classes = np.argmax(y_test, axis=1)\n",
    "\n",
    "accuracy = accuracy_score(y_test_classes, y_pred_classes)\n",
    "precision = precision_score(y_test_classes, y_pred_classes, average='weighted')\n",
    "recall = recall_score(y_test_classes, y_pred_classes, average='weighted')\n",
    "f1 = f1_score(y_test_classes, y_pred_classes, average='weighted')"
   ]
  },
  {
   "cell_type": "code",
   "execution_count": 11,
   "metadata": {},
   "outputs": [
    {
     "data": {
      "image/png": "[encoded data removed]",
      "text/plain": [
       "<Figure size 432x288 with 1 Axes>"
      ]
     },
     "metadata": {
      "needs_background": "light"
     },
     "output_type": "display_data"
    },
    {
     "data": {
      "image/png": "[encoded data removed]",
      "text/plain": [
       "<Figure size 432x288 with 1 Axes>"
      ]
     },
     "metadata": {
      "needs_background": "light"
     },
     "output_type": "display_data"
    }
   ],
   "source": [
    "plt.plot(history.history['acc'], label='Train Accuracy')\n",
    "plt.plot(history.history['val_acc'], label='Validation Accuracy')\n",
    "plt.title('Model Accuracy')\n",
    "plt.xlabel('Epochs')\n",
    "plt.ylabel('Accuracy')\n",
    "plt.legend()\n",
    "plt.show()\n",
    "\n",
    "plt.plot(history.history['loss'], label='Train Loss')\n",
    "plt.plot(history.history['val_loss'], label='Validation Loss')\n",
    "plt.title('Model Loss')\n",
    "plt.xlabel('Epochs')\n",
    "plt.ylabel('Loss')\n",
    "plt.legend()\n",
    "plt.show()\n"
   ]
  },
  {
   "cell_type": "code",
   "execution_count": null,
   "metadata": {},
   "outputs": [],
   "source": [
    "i=0\n",
    "original_sentence = []\n",
    "for vec in X_test[i]:  # Iterate over the embeddings for the original sentence\n",
    "    similar_word = model.wv.most_similar([vec], topn=1)[0][0]\n",
    "    original_sentence.append(similar_word)\n",
    "original_sentence_str = ' '.join(original_sentence)\n",
    "\n",
    "# Reconstruct the sentence from the reconstructed embeddings\n",
    "reconstructed_sentence = []\n",
    "for vec in x_reconstructed[i]:  # Iterate over the embeddings for the reconstructed sentence\n",
    "    similar_word = model.wv.most_similar([vec], topn=1)[0][0]\n",
    "    reconstructed_sentence.append(similar_word)\n",
    "reconstructed_sentence_str = ' '.join(reconstructed_sentence)"
   ]
  }
 ],
 "metadata": {
  "kernelspec": {
   "display_name": "newest_lstm_vae",
   "language": "python",
   "name": "python3"
  },
  "language_info": {
   "codemirror_mode": {
    "name": "ipython",
    "version": 3
   },
   "file_extension": ".py",
   "mimetype": "text/x-python",
   "name": "python",
   "nbconvert_exporter": "python",
   "pygments_lexer": "ipython3",
   "version": "3.6.13"
  }
 },
 "nbformat": 4,
 "nbformat_minor": 2
}
